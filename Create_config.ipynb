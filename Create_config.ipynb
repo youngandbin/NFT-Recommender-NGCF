{
 "cells": [
  {
   "attachments": {},
   "cell_type": "markdown",
   "metadata": {},
   "source": [
    "# Create config file"
   ]
  },
  {
   "cell_type": "code",
   "execution_count": 14,
   "metadata": {},
   "outputs": [],
   "source": [
    "import yaml\n",
    "import os\n",
    "import pandas as pd\n",
    "import numpy as np\n",
    "from tqdm import tqdm\n",
    "from logging import getLogger\n",
    "from recbole.config import Config\n",
    "from recbole.utils import init_seed, init_logger\n",
    "from recbole.data import create_dataset, data_preparation\n",
    "from recbole.utils import get_model, get_trainer\n",
    "from recbole.trainer import HyperTuning\n",
    "from recbole.quick_start import objective_function\n",
    "\n",
    "SEED = 2022"
   ]
  },
  {
   "cell_type": "code",
   "execution_count": 15,
   "metadata": {},
   "outputs": [],
   "source": [
    "parameter_dict = {\n",
    "    \n",
    "    # 'log_wandb': true, \n",
    "\n",
    "    # environment\n",
    "    'seed': 0,\n",
    "    'reproducibility': True,\n",
    "    'data_path': 'dataset/collections/', \n",
    "    # 'data_path': 'dataset/benchmarks/',\n",
    "    'checkpoint_dir': 'saved/',\n",
    "    'show_progress': True,\n",
    "    'save_dataset': False,\n",
    "\n",
    "    # data\n",
    "    'field_separator': '\\t',\n",
    "    'seq_separator': ' ',\n",
    "    'USER_ID_FIELD': 'user_id',\n",
    "    'ITEM_ID_FIELD': 'item_id',\n",
    "    'RATING_FIELD': 'rating',\n",
    "    'user_inter_num_interval': '[0,inf)', \n",
    "    #################### Load pre-trained embedding ####################\n",
    "    'additional_feat_suffix': ['itememb_img', 'itememb_txt', 'itememb_price'], \n",
    "    'load_col': {'inter' : ['user_id', 'item_id'],\n",
    "                 'itememb_img': ['iid_img', 'item_emb_img'],\n",
    "                 'itememb_txt': ['iid_txt', 'item_emb_txt'],\n",
    "                 'itememb_prices': ['iid_price', 'item_emb_price'],\n",
    "                 },\n",
    "    \n",
    "    'alias_of_item_id': ['iid_img','iid_txt','iid_price'],\n",
    "    'preload_weight': {'iid_img': 'item_emb_img', \n",
    "                       'iid_txt': 'item_emb_txt', \n",
    "                       'iid_prices': 'item_emb_price'\n",
    "                       },\n",
    "    'img': None,\n",
    "    'price': None,\n",
    "    'txt': None,\n",
    "    \n",
    "    \n",
    "    # training\n",
    "    'epochs': 50,\n",
    "    'train_batch_size': 2048,\n",
    "    'learner': 'adam',\n",
    "    'learning_rate': 0.001,  # 0.001\n",
    "    'train_neg_sample_args': {'distribution': 'popularity',\n",
    "                              'sample_num': 5,\n",
    "                              'dynamic': False,\n",
    "                              'candidate_num': 0},\n",
    "    'eval_step': 1,\n",
    "    'stopping_step': 50,\n",
    "    'loss_decimal_place': 4,\n",
    "\n",
    "    # evaluation\n",
    "    'eval_args': {'group_by': 'user',\n",
    "                  'order': 'RO',\n",
    "                  'split': {'RS': [8, 1, 1]},\n",
    "                  'mode': 'pop100'},\n",
    "    'metrics': ['Recall', 'MRR', 'NDCG', 'Hit', 'MAP', 'Precision', 'GAUC'],\n",
    "    'topk': [1, 2, 5, 10, 20],\n",
    "    'valid_metric': 'NDCG@20',  # for early stopping\n",
    "    'eval_batch_size': 4096,\n",
    "    'metric_decimal_place': 4,\n",
    "    \n",
    "}\n",
    "\n",
    "# convert parameter_dict to yaml file\n",
    "with open(r'config/fixed_config_FE_NGCF.yaml', 'w') as file:\n",
    "    documents = yaml.dump(parameter_dict, file)"
   ]
  }
 ],
 "metadata": {
  "kernelspec": {
   "display_name": "RecBole_2",
   "language": "python",
   "name": "python3"
  },
  "language_info": {
   "codemirror_mode": {
    "name": "ipython",
    "version": 3
   },
   "file_extension": ".py",
   "mimetype": "text/x-python",
   "name": "python",
   "nbconvert_exporter": "python",
   "pygments_lexer": "ipython3",
   "version": "3.7.16"
  },
  "orig_nbformat": 4,
  "vscode": {
   "interpreter": {
    "hash": "991fe3f9de00c9a422a5f66b8cc7243158afe66a42c9654a2fcf9d740859f175"
   }
  }
 },
 "nbformat": 4,
 "nbformat_minor": 2
}
